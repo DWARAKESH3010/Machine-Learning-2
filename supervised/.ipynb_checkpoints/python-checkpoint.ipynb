{
 "cells": [
  {
   "cell_type": "code",
   "execution_count": 6,
   "id": "bfde081a-1c6a-46f8-9a8e-deb7915e385b",
   "metadata": {},
   "outputs": [
    {
     "name": "stdout",
     "output_type": "stream",
     "text": [
      "[2, 4, 6, 8]\n"
     ]
    }
   ],
   "source": [
    "def fun(a):\n",
    "    return a * 2\n",
    "a = [1,2,3,4]\n",
    "print(list(map(fun,a)))\n",
    "    "
   ]
  },
  {
   "cell_type": "code",
   "execution_count": 14,
   "id": "3cb57b72-5e3e-47d7-8b95-bd69335a9c38",
   "metadata": {},
   "outputs": [
    {
     "data": {
      "text/plain": [
       "('dwara', 24)"
      ]
     },
     "execution_count": 14,
     "metadata": {},
     "output_type": "execute_result"
    }
   ],
   "source": [
    "class cl:\n",
    "    def __init__(self,name,age):\n",
    "        self.name = name\n",
    "        self.age = age\n",
    "    def fun(self):\n",
    "        return(self.name,self.age*2)\n",
    "obj = cl(name = \"dwara\",age = 12)\n",
    "obj.fun()"
   ]
  },
  {
   "cell_type": "code",
   "execution_count": 18,
   "id": "14374535-23e4-4ee5-b991-c04d682157fb",
   "metadata": {},
   "outputs": [
    {
     "name": "stdout",
     "output_type": "stream",
     "text": [
      "apple\n",
      "banana\n"
     ]
    }
   ],
   "source": [
    "mytuple = (\"apple\", \"banana\", \"cherry\")\n",
    "myit = iter(mytuple)\n",
    "\n",
    "print(next(myit))\n",
    "print(next(myit))"
   ]
  },
  {
   "cell_type": "code",
   "execution_count": 19,
   "id": "2a0d7df3-b484-48a7-9106-35ecd97f5b0e",
   "metadata": {},
   "outputs": [
    {
     "name": "stdout",
     "output_type": "stream",
     "text": [
      "Ford\n",
      "Mustang\n",
      "Move!\n",
      "Ibiza\n",
      "Touring 20\n",
      "Sail!\n",
      "Boeing\n",
      "747\n",
      "Fly!\n"
     ]
    }
   ],
   "source": [
    "class Vehicle:\n",
    "  def __init__(self, brand, model):\n",
    "    self.brand = brand\n",
    "    self.model = model\n",
    "\n",
    "  def move(self):\n",
    "    print(\"Move!\")\n",
    "\n",
    "class Car(Vehicle):\n",
    "  pass\n",
    "\n",
    "class Boat(Vehicle):\n",
    "  def move(self):\n",
    "    print(\"Sail!\")\n",
    "\n",
    "class Plane(Vehicle):\n",
    "  def move(self):\n",
    "    print(\"Fly!\")\n",
    "\n",
    "car1 = Car(\"Ford\", \"Mustang\")       #Create a Car object\n",
    "boat1 = Boat(\"Ibiza\", \"Touring 20\") #Create a Boat object\n",
    "plane1 = Plane(\"Boeing\", \"747\")     #Create a Plane object\n",
    "\n",
    "for x in (car1, boat1, plane1):\n",
    "  print(x.brand)\n",
    "  print(x.model)\n",
    "  x.move()"
   ]
  },
  {
   "cell_type": "code",
   "execution_count": 32,
   "id": "a02dd8aa-446c-478b-a74e-a54ea683d0a4",
   "metadata": {},
   "outputs": [
    {
     "name": "stdout",
     "output_type": "stream",
     "text": [
      "first function\n",
      "1500\n"
     ]
    }
   ],
   "source": [
    "x = 300\n",
    "def myfunc(x):\n",
    "    print(\"first function\")\n",
    "    def myinnerfunc(x):\n",
    "        print(x)\n",
    "    return myinnerfunc(x * 5)\n",
    "\n",
    "myfunc(x)\n"
   ]
  },
  {
   "cell_type": "markdown",
   "id": "9221a7c7-090a-4e80-a457-af251d79de0f",
   "metadata": {},
   "source": [
    "# global variable in function"
   ]
  },
  {
   "cell_type": "code",
   "execution_count": 41,
   "id": "4f9db549-a03d-4d78-9084-6092f8def0c0",
   "metadata": {},
   "outputs": [
    {
     "name": "stdout",
     "output_type": "stream",
     "text": [
      "300\n"
     ]
    },
    {
     "data": {
      "text/plain": [
       "600"
      ]
     },
     "execution_count": 41,
     "metadata": {},
     "output_type": "execute_result"
    }
   ],
   "source": [
    "x = 300\n",
    "\n",
    "def myfunc():\n",
    "    global x\n",
    "    return x\n",
    "def my():\n",
    "    c = myfunc()\n",
    "    print(c)\n",
    "    return c * 2\n",
    "my()\n"
   ]
  },
  {
   "cell_type": "markdown",
   "id": "f607accf-afea-4677-8581-c60d89b4dba5",
   "metadata": {},
   "source": [
    "# creating varibale in function and using outsite of the function"
   ]
  },
  {
   "cell_type": "code",
   "execution_count": 75,
   "id": "7807cbda-562c-4d3a-8282-209a46089651",
   "metadata": {},
   "outputs": [
    {
     "data": {
      "text/plain": [
       "200"
      ]
     },
     "execution_count": 75,
     "metadata": {},
     "output_type": "execute_result"
    }
   ],
   "source": [
    "y = 100\n",
    "class va:\n",
    "    def func():\n",
    "        global x\n",
    "        x = y * 2\n",
    "        \n",
    "x"
   ]
  },
  {
   "cell_type": "markdown",
   "id": "578368b5-d8e0-49b7-bec9-8af163917fdd",
   "metadata": {},
   "source": [
    "# RegExp"
   ]
  },
  {
   "cell_type": "code",
   "execution_count": 93,
   "id": "58535b4b-2180-46d7-92f2-66f2effa3b72",
   "metadata": {},
   "outputs": [
    {
     "name": "stdout",
     "output_type": "stream",
     "text": [
      "true <re.Match object; span=(8, 12), match='dwar'>\n"
     ]
    }
   ],
   "source": [
    "import re \n",
    "a = \"This is dwarakesh\"\n",
    "x = re.search(\"dwar\",a)       # This is case sensitive\n",
    "if x :\n",
    "    print(\"true\")\n",
    "else:\n",
    "    print(\"f\")"
   ]
  },
  {
   "cell_type": "code",
   "execution_count": null,
   "id": "43e1c39a-258e-4033-b105-95ffd4f973a5",
   "metadata": {},
   "outputs": [],
   "source": [
    "import re \n",
    "a = \"This is dwarakesh 1 2 3 4 3 1 2 3 1\"\n",
    "x = re.split(\"1\",a)       # This is case sensitive\n",
    "if x :\n",
    "    print(\"true\",x)\n",
    "else:\n",
    "    print(\"f\")"
   ]
  },
  {
   "cell_type": "code",
   "execution_count": null,
   "id": "4456114d-027c-42f2-ba68-eabbfd714fc9",
   "metadata": {},
   "outputs": [],
   "source": [
    "import re \n",
    "a = \"This is dwarakesh\"\n",
    "x = re.findall(\"dwar\",a)       # This is case sensitive\n",
    "if x :\n",
    "    print(\"true\",x)\n",
    "else:\n",
    "    print(\"f\")"
   ]
  },
  {
   "cell_type": "code",
   "execution_count": null,
   "id": "a38bdc68-2fa8-44da-882d-d654f3c71675",
   "metadata": {},
   "outputs": [],
   "source": []
  },
  {
   "cell_type": "code",
   "execution_count": null,
   "id": "bdb38468-ff2f-4175-a26a-9fbd624b7100",
   "metadata": {},
   "outputs": [],
   "source": []
  },
  {
   "cell_type": "code",
   "execution_count": null,
   "id": "f282f360-d8d1-48cd-9521-3249dd27bb27",
   "metadata": {},
   "outputs": [],
   "source": []
  }
 ],
 "metadata": {
  "kernelspec": {
   "display_name": "Python 3 (ipykernel)",
   "language": "python",
   "name": "python3"
  },
  "language_info": {
   "codemirror_mode": {
    "name": "ipython",
    "version": 3
   },
   "file_extension": ".py",
   "mimetype": "text/x-python",
   "name": "python",
   "nbconvert_exporter": "python",
   "pygments_lexer": "ipython3",
   "version": "3.12.3"
  }
 },
 "nbformat": 4,
 "nbformat_minor": 5
}
